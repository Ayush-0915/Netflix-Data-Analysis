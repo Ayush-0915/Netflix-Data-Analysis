{
 "cells": [
  {
   "cell_type": "code",
   "execution_count": 1,
   "id": "d68a459b-0cae-438a-be31-e6940b22ca89",
   "metadata": {},
   "outputs": [],
   "source": [
    "import numpy as np\n",
    "import pandas as pd"
   ]
  },
  {
   "cell_type": "markdown",
   "id": "8bfbd61f-342b-49fc-8ce5-1b7825054b71",
   "metadata": {},
   "source": [
    "# Operations In Numpy"
   ]
  },
  {
   "cell_type": "code",
   "execution_count": 33,
   "id": "61d1e6af-0570-4ef9-af70-05105b6e3a17",
   "metadata": {},
   "outputs": [
    {
     "name": "stdout",
     "output_type": "stream",
     "text": [
      "[1 2 3 4 5 6 7 8]\n"
     ]
    }
   ],
   "source": [
    "#making a array\n",
    "k = np.array([1,2,3,4,5,6,7,8])\n",
    "print(k)"
   ]
  },
  {
   "cell_type": "code",
   "execution_count": 34,
   "id": "5891c15a-ebe9-4310-b50a-1702c345de62",
   "metadata": {},
   "outputs": [
    {
     "name": "stdout",
     "output_type": "stream",
     "text": [
      "(8,)\n"
     ]
    }
   ],
   "source": [
    "#print the shape of the array,how many row and column in the array\n",
    "print(k.shape)"
   ]
  },
  {
   "cell_type": "code",
   "execution_count": 35,
   "id": "29387c8d-747f-4ad5-86fe-556df6aade9d",
   "metadata": {},
   "outputs": [
    {
     "name": "stdout",
     "output_type": "stream",
     "text": [
      "[[[1 2]\n",
      "  [3 4]]\n",
      "\n",
      " [[5 6]\n",
      "  [7 8]]]\n"
     ]
    }
   ],
   "source": [
    "#change the shape and dimension and shape of the array\n",
    "print(k.reshape(2,2,2))"
   ]
  },
  {
   "cell_type": "code",
   "execution_count": 36,
   "id": "ff1ee9b2-2f20-4632-bd0f-51802292bc66",
   "metadata": {},
   "outputs": [
    {
     "name": "stdout",
     "output_type": "stream",
     "text": [
      "['raghav' 'ram' 'krishna']\n",
      "['aryan' 'krishna' 'ram' 'raghav']\n"
     ]
    }
   ],
   "source": [
    "x= np.array(['raghav','ram','krishna','aryan'])\n",
    "y= [True,True,True,False]\n",
    "z= x[y]\n",
    "print(z)\n",
    "print(x[::-1])"
   ]
  },
  {
   "cell_type": "code",
   "execution_count": 37,
   "id": "e25d6794-03af-4d21-8f8f-9b3e2c45a32c",
   "metadata": {},
   "outputs": [
    {
     "name": "stdout",
     "output_type": "stream",
     "text": [
      "9\n",
      "-3\n",
      "18\n",
      "0.5\n",
      "3\n",
      "0\n",
      "729\n"
     ]
    }
   ],
   "source": [
    "print(k[2]+k[5])    #addition\n",
    "print(k[2]-k[5])    #subtraction\n",
    "print(k[2]*k[5])    #multiplication\n",
    "print(k[2]/k[5])    #division\n",
    "print(k[2]%k[5])    #modulus\n",
    "print(k[2]//k[5])   #floor division\n",
    "print(k[2]**k[5])   #exponentiation"
   ]
  },
  {
   "cell_type": "code",
   "execution_count": 38,
   "id": "c81927c2-2a6f-4423-aec5-f0671ca00840",
   "metadata": {},
   "outputs": [
    {
     "name": "stdout",
     "output_type": "stream",
     "text": [
      "6\n"
     ]
    }
   ],
   "source": [
    "print(k[5])"
   ]
  },
  {
   "cell_type": "code",
   "execution_count": 39,
   "id": "e4fa4be4-003d-4a94-aa0a-0d7c4b703320",
   "metadata": {},
   "outputs": [
    {
     "name": "stdout",
     "output_type": "stream",
     "text": [
      "[1. 2. 3. 4. 5. 6. 7. 8.]\n"
     ]
    }
   ],
   "source": [
    "np.savetxt('library_numpy.csv',k)#save a file in csv form\n",
    "arr12=np.loadtxt('library_numpy.csv')#load a file back from csv form\n",
    "print(arr12)"
   ]
  },
  {
   "cell_type": "code",
   "execution_count": 40,
   "id": "16e53e3b-f936-44f8-a039-8f91a1c6cea9",
   "metadata": {},
   "outputs": [
    {
     "name": "stdout",
     "output_type": "stream",
     "text": [
      "[1 2 3 4 5 6 7 8]\n"
     ]
    }
   ],
   "source": [
    "np.save('library_numpy.npy',k)#save a file in binary form\n",
    "arr12=np.load('library_numpy.npy') #load a file back from binary form\n",
    "print(arr12)"
   ]
  },
  {
   "cell_type": "code",
   "execution_count": 41,
   "id": "2664efc2-4d2d-46ed-b275-d678706b429a",
   "metadata": {},
   "outputs": [
    {
     "name": "stdout",
     "output_type": "stream",
     "text": [
      "36\n"
     ]
    }
   ],
   "source": [
    "print(np.sum(k))"
   ]
  },
  {
   "cell_type": "code",
   "execution_count": 42,
   "id": "d6def708-4b09-4b47-bc80-73bad6423ef5",
   "metadata": {},
   "outputs": [
    {
     "name": "stdout",
     "output_type": "stream",
     "text": [
      "4.5\n",
      "4.5\n"
     ]
    }
   ],
   "source": [
    "print(np.mean(k))\n",
    "print(np.median(k))"
   ]
  },
  {
   "cell_type": "code",
   "execution_count": 43,
   "id": "e6ccee15-43cd-4c55-89a7-139ffe9a7dd6",
   "metadata": {},
   "outputs": [
    {
     "name": "stdout",
     "output_type": "stream",
     "text": [
      "[[[ 1  2]\n",
      "  [ 3  4]]\n",
      "\n",
      " [[ 5  6]\n",
      "  [ 7  8]]\n",
      "\n",
      " [[ 9 10]\n",
      "  [11 12]]\n",
      "\n",
      " [[13 14]\n",
      "  [15 16]]]\n"
     ]
    }
   ],
   "source": [
    "p=np.array([1,2,3,4,5,6,7,8,9,10,11,12,13,14,15,16])\n",
    "f = p.reshape(4,2,2)\n",
    "print(f)"
   ]
  },
  {
   "cell_type": "code",
   "execution_count": 44,
   "id": "8158fad2-c9d8-442c-b7d1-829ecbf14dd8",
   "metadata": {},
   "outputs": [
    {
     "name": "stdout",
     "output_type": "stream",
     "text": [
      "1\n",
      "int32\n",
      "<class 'numpy.ndarray'>\n"
     ]
    }
   ],
   "source": [
    "#ndim function is use for finding the dimension of the function\n",
    "#dtype function is used for findinf data type of the function\n",
    "print(k.ndim)\n",
    "print(k.dtype)\n",
    "print(type(k))"
   ]
  },
  {
   "cell_type": "code",
   "execution_count": 45,
   "id": "605d4723-b0b5-46c0-95c6-c93b2427c25e",
   "metadata": {},
   "outputs": [
    {
     "name": "stdout",
     "output_type": "stream",
     "text": [
      "[ 1  2 16  4  5  6  7  8]\n"
     ]
    }
   ],
   "source": [
    "#copy function is used for getting copy of the array and if we do any changes in the copy it do not effect orignal one\n",
    "j=k.copy()\n",
    "j[2]=16\n",
    "print(j)"
   ]
  },
  {
   "cell_type": "code",
   "execution_count": 46,
   "id": "c91726a1-a357-4572-bedc-7820364aeefc",
   "metadata": {},
   "outputs": [
    {
     "name": "stdout",
     "output_type": "stream",
     "text": [
      "[1 2 3 4 5 6 7 8]\n"
     ]
    }
   ],
   "source": [
    "print(k)"
   ]
  },
  {
   "cell_type": "code",
   "execution_count": 47,
   "id": "04619077-9bb9-493f-ba59-2b5931133f81",
   "metadata": {},
   "outputs": [
    {
     "name": "stdout",
     "output_type": "stream",
     "text": [
      "[1 2 3 4 5 6 7 8]\n"
     ]
    }
   ],
   "source": [
    "#is help to sort the array\n",
    "print(np.sort(k))"
   ]
  },
  {
   "cell_type": "code",
   "execution_count": 48,
   "id": "a84d574a-23d4-4095-85e6-8a4d5575cfa7",
   "metadata": {},
   "outputs": [
    {
     "name": "stdout",
     "output_type": "stream",
     "text": [
      "['aryan' 'krishna' 'raghav' 'ram']\n"
     ]
    }
   ],
   "source": [
    "print(np.sort(x))"
   ]
  },
  {
   "cell_type": "code",
   "execution_count": 49,
   "id": "1853270a-8a56-4d35-9088-f4cdbca25231",
   "metadata": {},
   "outputs": [
    {
     "name": "stdout",
     "output_type": "stream",
     "text": [
      "None\n",
      "[4 1 5 8 6 3 7 2]\n"
     ]
    }
   ],
   "source": [
    "from numpy import random\n",
    "#suffle use to suffle the the element in orignal array\n",
    "#permutation is also used to suffle the element but permutation makes the copy of the array and shuffle it\n",
    "print(np.random.shuffle(k))\n",
    "print(np.random.permutation(k))"
   ]
  },
  {
   "cell_type": "code",
   "execution_count": 50,
   "id": "e8fd4f8b-5010-437a-8000-c7f81ab08ce2",
   "metadata": {},
   "outputs": [
    {
     "name": "stdout",
     "output_type": "stream",
     "text": [
      "1021\n",
      "198\n",
      "[-2. -2. -2. -2.]\n",
      "[[[-2.   1. ]\n",
      "  [ 1.5 -0.5]]\n",
      "\n",
      " [[-4.   3. ]\n",
      "  [ 3.5 -2.5]]\n",
      "\n",
      " [[-6.   5. ]\n",
      "  [ 5.5 -4.5]]\n",
      "\n",
      " [[-8.   7. ]\n",
      "  [ 7.5 -6.5]]]\n",
      "[2 2 2 2]\n"
     ]
    }
   ],
   "source": [
    "from numpy import linalg\n",
    "r = np.array([3,42,445,2,5,7,46,2])\n",
    "print(np.dot(k,r))#.dot is used to find the dot product between the array\n",
    "print(np.matmul(k,j))#matmull is also used for multiplication between matrix but it is not flexible like .dot becaude it follow mathematical rule.\n",
    "print(np.linalg.det(f))#.det is used to find the determinant of the matrix\n",
    "print(np.linalg.inv(f))#.inv is used to find the inverse of the matrix\n",
    "print(np.linalg.matrix_rank(f))#.matrix_rank is used to find the rank of the matrix"
   ]
  },
  {
   "cell_type": "code",
   "execution_count": 51,
   "id": "7052992d-23c1-4bfa-969e-d11114b69576",
   "metadata": {},
   "outputs": [
    {
     "name": "stdout",
     "output_type": "stream",
     "text": [
      "[[4.17022005e-01 7.20324493e-01 1.14374817e-04]\n",
      " [3.02332573e-01 1.46755891e-01 9.23385948e-02]\n",
      " [1.86260211e-01 3.45560727e-01 3.96767474e-01]]\n",
      "[[3 5 6]\n",
      " [3 5 3]\n",
      " [5 8 8]]\n",
      "['t' 't' '5' '4' 'a']\n",
      "[['4' '2' 't']\n",
      " ['t' '5' '5']\n",
      " ['2' '4' 't']]\n"
     ]
    }
   ],
   "source": [
    "np.random.seed(1)#is used to not change the array which is given to random function\n",
    "print(np.random.rand(3,3))#is used to give the number in the whole number scale\n",
    "print(np.random.randint(1,10,(3,3)))#is used to give umber in a prper range\n",
    "print(np.random.choice(['a','t','r','t','s',2,4,5],5))#is used to choose randomely elemnt is array ehich is given\n",
    "print(np.random.choice(['a','t','r','t','s',2,4,5],size =(3,3)))#is used to make a matrix from the given array in randomely choose the element"
   ]
  },
  {
   "cell_type": "markdown",
   "id": "80372121-a495-4439-b7df-8e56bbe4df11",
   "metadata": {},
   "source": [
    "# Operatins In Pandas"
   ]
  },
  {
   "cell_type": "code",
   "execution_count": 53,
   "id": "61e10e4e-0241-471a-89fa-45ec1c831675",
   "metadata": {},
   "outputs": [
    {
     "name": "stdout",
     "output_type": "stream",
     "text": [
      "     name  age      city\n",
      "0    Aman   18     Delhi\n",
      "1  Athrav   19    Nagpur\n",
      "2   Aryan   20    Raipur\n",
      "3  Aditya   21  Banglore\n"
     ]
    }
   ],
   "source": [
    "data= {\"name\" :['Aman','Athrav','Aryan','Aditya'],\n",
    "       \"age\" : [18,19,20,21],\n",
    "       \"city\" : ['Delhi','Nagpur','Raipur','Banglore']}\n",
    "g=pd.DataFrame(data)\n",
    "print(g)"
   ]
  },
  {
   "cell_type": "code",
   "execution_count": 54,
   "id": "2f597b62-f552-4228-bda1-aca1aa7b62fa",
   "metadata": {},
   "outputs": [
    {
     "name": "stdout",
     "output_type": "stream",
     "text": [
      "     name  age    city\n",
      "0    Aman   18   Delhi\n",
      "1  Athrav   19  Nagpur\n"
     ]
    }
   ],
   "source": [
    "#print first two row of the data set\n",
    "print(g.head(2))"
   ]
  },
  {
   "cell_type": "code",
   "execution_count": 55,
   "id": "f5ccc3e6-dcc1-42a9-87d1-ac7b8040ed0f",
   "metadata": {},
   "outputs": [
    {
     "name": "stdout",
     "output_type": "stream",
     "text": [
      "     name  age      city\n",
      "1  Athrav   19    Nagpur\n",
      "2   Aryan   20    Raipur\n",
      "3  Aditya   21  Banglore\n"
     ]
    }
   ],
   "source": [
    "#print last two row of data set\n",
    "print(g.tail(3))"
   ]
  },
  {
   "cell_type": "code",
   "execution_count": 56,
   "id": "eca26120-5787-44d8-bf37-c89cba1625e6",
   "metadata": {},
   "outputs": [
    {
     "name": "stdout",
     "output_type": "stream",
     "text": [
      "<class 'pandas.core.frame.DataFrame'>\n",
      "RangeIndex: 4 entries, 0 to 3\n",
      "Data columns (total 3 columns):\n",
      " #   Column  Non-Null Count  Dtype \n",
      "---  ------  --------------  ----- \n",
      " 0   name    4 non-null      object\n",
      " 1   age     4 non-null      int64 \n",
      " 2   city    4 non-null      object\n",
      "dtypes: int64(1), object(2)\n",
      "memory usage: 228.0+ bytes\n",
      "None\n"
     ]
    }
   ],
   "source": [
    "#give the general information about the dataset\n",
    "print(g.info())"
   ]
  },
  {
   "cell_type": "code",
   "execution_count": 57,
   "id": "88fa5b64-eed1-4999-870a-ff96f99dd81c",
   "metadata": {},
   "outputs": [
    {
     "name": "stdout",
     "output_type": "stream",
     "text": [
      "             age\n",
      "count   4.000000\n",
      "mean   19.500000\n",
      "std     1.290994\n",
      "min    18.000000\n",
      "25%    18.750000\n",
      "50%    19.500000\n",
      "75%    20.250000\n",
      "max    21.000000\n"
     ]
    }
   ],
   "source": [
    "#give the answer of statical operation perform in the dataset\n",
    "print(g.describe())"
   ]
  },
  {
   "cell_type": "code",
   "execution_count": 58,
   "id": "9098e420-1965-4b12-91c9-869bfb998b00",
   "metadata": {},
   "outputs": [
    {
     "name": "stdout",
     "output_type": "stream",
     "text": [
      "     name  age      city\n",
      "a    Aman   18     Delhi\n",
      "b  Athrav   19    Nagpur\n",
      "c   Aryan   20    Raipur\n",
      "d  Aditya   21  Banglore\n"
     ]
    }
   ],
   "source": [
    "#give the indexing in the dataset\n",
    "g=pd.DataFrame(data , index = ['a','b','c','d'])\n",
    "print(g)"
   ]
  },
  {
   "cell_type": "code",
   "execution_count": 59,
   "id": "1fafb278-62de-4888-a760-a55cb39463dd",
   "metadata": {},
   "outputs": [
    {
     "name": "stdout",
     "output_type": "stream",
     "text": [
      "name      Aditya\n",
      "age           21\n",
      "city    Banglore\n",
      "Name: d, dtype: object\n"
     ]
    }
   ],
   "source": [
    "#give the values of specific row in the dataset\n",
    "print(g.loc['d'])"
   ]
  },
  {
   "cell_type": "code",
   "execution_count": 63,
   "id": "695ce840-77a3-4ed7-8958-900e6437bb08",
   "metadata": {},
   "outputs": [
    {
     "name": "stdout",
     "output_type": "stream",
     "text": [
      "Raipur\n"
     ]
    }
   ],
   "source": [
    "#give the value of specific column in specific data set\n",
    "print(g.iloc[2,2])"
   ]
  },
  {
   "cell_type": "code",
   "execution_count": 64,
   "id": "a38a3651-fecd-4311-b4bc-a469945eb79a",
   "metadata": {},
   "outputs": [
    {
     "name": "stdout",
     "output_type": "stream",
     "text": [
      "a     True\n",
      "b    False\n",
      "c    False\n",
      "d    False\n",
      "Name: age, dtype: bool\n"
     ]
    }
   ],
   "source": [
    "#sort the value with respect to given condition in bolean form\n",
    "print(g['age']<19)"
   ]
  },
  {
   "cell_type": "code",
   "execution_count": 66,
   "id": "9e901f67-63ec-453c-be61-ad75e460ec54",
   "metadata": {},
   "outputs": [
    {
     "name": "stdout",
     "output_type": "stream",
     "text": [
      "     name  age    city\n",
      "a    Aman   18   Delhi\n",
      "b  Athrav   19  Nagpur\n"
     ]
    }
   ],
   "source": [
    "#sort the value with respect to given condition\n",
    "print(g[g['age']<20])"
   ]
  },
  {
   "cell_type": "code",
   "execution_count": 67,
   "id": "33678525-25c1-4e19-b2cd-28dbc2f2df0a",
   "metadata": {},
   "outputs": [],
   "source": [
    "#save the file in csv format\n",
    "g.to_csv('output.csv', index=False)"
   ]
  },
  {
   "cell_type": "code",
   "execution_count": 68,
   "id": "e19bbdb8-1fb8-4df2-b7f9-a503ede1862f",
   "metadata": {},
   "outputs": [],
   "source": [
    "#save the file in excel format\n",
    "g.to_excel('output.xlsx', index=False)"
   ]
  },
  {
   "cell_type": "code",
   "execution_count": 69,
   "id": "4f2878ec-b0b4-4fea-82a9-058e55850e4d",
   "metadata": {},
   "outputs": [
    {
     "data": {
      "text/plain": [
       "name    0\n",
       "age     0\n",
       "city    0\n",
       "dtype: int64"
      ]
     },
     "execution_count": 69,
     "metadata": {},
     "output_type": "execute_result"
    }
   ],
   "source": [
    "#find if there any null value in the dataset\n",
    "g.isnull().sum()"
   ]
  },
  {
   "cell_type": "code",
   "execution_count": 70,
   "id": "7a362bd4-55dc-40c4-b066-40b1a2f7c6f0",
   "metadata": {},
   "outputs": [
    {
     "data": {
      "text/html": [
       "<div>\n",
       "<style scoped>\n",
       "    .dataframe tbody tr th:only-of-type {\n",
       "        vertical-align: middle;\n",
       "    }\n",
       "\n",
       "    .dataframe tbody tr th {\n",
       "        vertical-align: top;\n",
       "    }\n",
       "\n",
       "    .dataframe thead th {\n",
       "        text-align: right;\n",
       "    }\n",
       "</style>\n",
       "<table border=\"1\" class=\"dataframe\">\n",
       "  <thead>\n",
       "    <tr style=\"text-align: right;\">\n",
       "      <th></th>\n",
       "      <th>name</th>\n",
       "      <th>age</th>\n",
       "      <th>city</th>\n",
       "    </tr>\n",
       "  </thead>\n",
       "  <tbody>\n",
       "    <tr>\n",
       "      <th>a</th>\n",
       "      <td>Aman</td>\n",
       "      <td>18</td>\n",
       "      <td>Delhi</td>\n",
       "    </tr>\n",
       "    <tr>\n",
       "      <th>b</th>\n",
       "      <td>Athrav</td>\n",
       "      <td>19</td>\n",
       "      <td>Nagpur</td>\n",
       "    </tr>\n",
       "    <tr>\n",
       "      <th>c</th>\n",
       "      <td>Aryan</td>\n",
       "      <td>20</td>\n",
       "      <td>Raipur</td>\n",
       "    </tr>\n",
       "    <tr>\n",
       "      <th>d</th>\n",
       "      <td>Aditya</td>\n",
       "      <td>21</td>\n",
       "      <td>Banglore</td>\n",
       "    </tr>\n",
       "  </tbody>\n",
       "</table>\n",
       "</div>"
      ],
      "text/plain": [
       "     name  age      city\n",
       "a    Aman   18     Delhi\n",
       "b  Athrav   19    Nagpur\n",
       "c   Aryan   20    Raipur\n",
       "d  Aditya   21  Banglore"
      ]
     },
     "execution_count": 70,
     "metadata": {},
     "output_type": "execute_result"
    }
   ],
   "source": [
    "#fill the temparory value in the space of null value\n",
    "g.fillna(0)"
   ]
  },
  {
   "cell_type": "code",
   "execution_count": 72,
   "id": "06e20e22-454b-4dc1-b75c-d8cdcac9734d",
   "metadata": {},
   "outputs": [
    {
     "data": {
      "text/html": [
       "<div>\n",
       "<style scoped>\n",
       "    .dataframe tbody tr th:only-of-type {\n",
       "        vertical-align: middle;\n",
       "    }\n",
       "\n",
       "    .dataframe tbody tr th {\n",
       "        vertical-align: top;\n",
       "    }\n",
       "\n",
       "    .dataframe thead th {\n",
       "        text-align: right;\n",
       "    }\n",
       "</style>\n",
       "<table border=\"1\" class=\"dataframe\">\n",
       "  <thead>\n",
       "    <tr style=\"text-align: right;\">\n",
       "      <th></th>\n",
       "      <th>name</th>\n",
       "      <th>age</th>\n",
       "      <th>city</th>\n",
       "    </tr>\n",
       "  </thead>\n",
       "  <tbody>\n",
       "    <tr>\n",
       "      <th>a</th>\n",
       "      <td>Aman</td>\n",
       "      <td>18</td>\n",
       "      <td>Delhi</td>\n",
       "    </tr>\n",
       "    <tr>\n",
       "      <th>b</th>\n",
       "      <td>Athrav</td>\n",
       "      <td>19</td>\n",
       "      <td>Nagpur</td>\n",
       "    </tr>\n",
       "    <tr>\n",
       "      <th>c</th>\n",
       "      <td>Aryan</td>\n",
       "      <td>20</td>\n",
       "      <td>Raipur</td>\n",
       "    </tr>\n",
       "    <tr>\n",
       "      <th>d</th>\n",
       "      <td>Aditya</td>\n",
       "      <td>21</td>\n",
       "      <td>Banglore</td>\n",
       "    </tr>\n",
       "  </tbody>\n",
       "</table>\n",
       "</div>"
      ],
      "text/plain": [
       "     name  age      city\n",
       "a    Aman   18     Delhi\n",
       "b  Athrav   19    Nagpur\n",
       "c   Aryan   20    Raipur\n",
       "d  Aditya   21  Banglore"
      ]
     },
     "execution_count": 72,
     "metadata": {},
     "output_type": "execute_result"
    }
   ],
   "source": [
    "#drop the null value from the dataset\n",
    "g.dropna()"
   ]
  },
  {
   "cell_type": "code",
   "execution_count": 73,
   "id": "621ec92c-f376-4a6b-a170-1a195273f75c",
   "metadata": {},
   "outputs": [
    {
     "data": {
      "text/plain": [
       "0"
      ]
     },
     "execution_count": 73,
     "metadata": {},
     "output_type": "execute_result"
    }
   ],
   "source": [
    "#find the duplicated vaue in the dataset\n",
    "g.duplicated().sum()"
   ]
  },
  {
   "cell_type": "code",
   "execution_count": 74,
   "id": "ac074553-e414-414f-8498-202b43f21d21",
   "metadata": {},
   "outputs": [
    {
     "data": {
      "text/html": [
       "<div>\n",
       "<style scoped>\n",
       "    .dataframe tbody tr th:only-of-type {\n",
       "        vertical-align: middle;\n",
       "    }\n",
       "\n",
       "    .dataframe tbody tr th {\n",
       "        vertical-align: top;\n",
       "    }\n",
       "\n",
       "    .dataframe thead th {\n",
       "        text-align: right;\n",
       "    }\n",
       "</style>\n",
       "<table border=\"1\" class=\"dataframe\">\n",
       "  <thead>\n",
       "    <tr style=\"text-align: right;\">\n",
       "      <th></th>\n",
       "      <th>name</th>\n",
       "      <th>age</th>\n",
       "      <th>city</th>\n",
       "    </tr>\n",
       "  </thead>\n",
       "  <tbody>\n",
       "    <tr>\n",
       "      <th>a</th>\n",
       "      <td>Aman</td>\n",
       "      <td>18</td>\n",
       "      <td>Delhi</td>\n",
       "    </tr>\n",
       "    <tr>\n",
       "      <th>b</th>\n",
       "      <td>Athrav</td>\n",
       "      <td>19</td>\n",
       "      <td>Nagpur</td>\n",
       "    </tr>\n",
       "    <tr>\n",
       "      <th>c</th>\n",
       "      <td>Aryan</td>\n",
       "      <td>20</td>\n",
       "      <td>Raipur</td>\n",
       "    </tr>\n",
       "    <tr>\n",
       "      <th>d</th>\n",
       "      <td>Aditya</td>\n",
       "      <td>21</td>\n",
       "      <td>Banglore</td>\n",
       "    </tr>\n",
       "  </tbody>\n",
       "</table>\n",
       "</div>"
      ],
      "text/plain": [
       "     name  age      city\n",
       "a    Aman   18     Delhi\n",
       "b  Athrav   19    Nagpur\n",
       "c   Aryan   20    Raipur\n",
       "d  Aditya   21  Banglore"
      ]
     },
     "execution_count": 74,
     "metadata": {},
     "output_type": "execute_result"
    }
   ],
   "source": [
    "#drop the duplicated value from the dataset\n",
    "g.drop_duplicates()"
   ]
  },
  {
   "cell_type": "code",
   "execution_count": null,
   "id": "9a98f23d-ecb2-4456-a7e6-57013e369779",
   "metadata": {},
   "outputs": [],
   "source": []
  }
 ],
 "metadata": {
  "kernelspec": {
   "display_name": "Python 3 (ipykernel)",
   "language": "python",
   "name": "python3"
  },
  "language_info": {
   "codemirror_mode": {
    "name": "ipython",
    "version": 3
   },
   "file_extension": ".py",
   "mimetype": "text/x-python",
   "name": "python",
   "nbconvert_exporter": "python",
   "pygments_lexer": "ipython3",
   "version": "3.12.7"
  }
 },
 "nbformat": 4,
 "nbformat_minor": 5
}
